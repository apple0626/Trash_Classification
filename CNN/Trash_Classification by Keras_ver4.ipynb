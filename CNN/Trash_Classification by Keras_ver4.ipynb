{
 "cells": [
  {
   "cell_type": "code",
   "execution_count": 1,
   "id": "547434fa",
   "metadata": {},
   "outputs": [],
   "source": [
    "import matplotlib.pyplot as plt\n",
    "import numpy as np\n",
    "import os\n",
    "import PIL\n",
    "import tensorflow as tf\n",
    "\n",
    "from tensorflow import keras\n",
    "from tensorflow.keras import layers\n",
    "from tensorflow.keras.models import Sequential\n",
    "from tensorflow.keras.losses import sparse_categorical_crossentropy\n",
    "from tensorflow.keras.preprocessing.image import ImageDataGenerator"
   ]
  },
  {
   "cell_type": "code",
   "execution_count": 2,
   "id": "0edb4520",
   "metadata": {},
   "outputs": [],
   "source": [
    "train = 'dataset/random_equal/'"
   ]
  },
  {
   "cell_type": "code",
   "execution_count": 3,
   "id": "779f9bad",
   "metadata": {},
   "outputs": [
    {
     "name": "stdout",
     "output_type": "stream",
     "text": [
      "Found 11499 images belonging to 5 classes.\n"
     ]
    }
   ],
   "source": [
    "train_generator = ImageDataGenerator(rescale = 1./255)\n",
    "train_generator = train_generator.flow_from_directory(train,\n",
    "                                                     target_size=(300, 300),\n",
    "                                                     batch_size=64,\n",
    "                                                     class_mode='sparse')\n",
    "\n",
    "labels = train_generator.class_indices"
   ]
  },
  {
   "cell_type": "code",
   "execution_count": 4,
   "id": "adaa8f4d",
   "metadata": {},
   "outputs": [],
   "source": [
    "num_classes = 5\n",
    "\n",
    "model = Sequential([\n",
    "  layers.Conv2D(16, 3, padding='same', activation='relu', input_shape = (300, 300, 3)),\n",
    "  layers.MaxPooling2D(),\n",
    "  layers.Conv2D(32, 3, padding='same', activation='relu'),\n",
    "  layers.MaxPooling2D(),\n",
    "  layers.Conv2D(64, 3, padding='same', activation='relu'),\n",
    "  layers.MaxPooling2D(),\n",
    "  layers.Dropout(0.2),\n",
    "  layers.Flatten(),\n",
    "  layers.Dense(128, activation='relu'),\n",
    "  layers.Dense(num_classes)\n",
    "])"
   ]
  },
  {
   "cell_type": "code",
   "execution_count": 5,
   "id": "6337a8a5",
   "metadata": {},
   "outputs": [],
   "source": [
    "model.compile(optimizer='adam',\n",
    "              loss=tf.keras.losses.SparseCategoricalCrossentropy(from_logits=True),\n",
    "              metrics=['accuracy'])"
   ]
  },
  {
   "cell_type": "code",
   "execution_count": 6,
   "id": "572bd889",
   "metadata": {},
   "outputs": [
    {
     "name": "stdout",
     "output_type": "stream",
     "text": [
      "Model: \"sequential\"\n",
      "_________________________________________________________________\n",
      "Layer (type)                 Output Shape              Param #   \n",
      "=================================================================\n",
      "conv2d (Conv2D)              (None, 300, 300, 16)      448       \n",
      "_________________________________________________________________\n",
      "max_pooling2d (MaxPooling2D) (None, 150, 150, 16)      0         \n",
      "_________________________________________________________________\n",
      "conv2d_1 (Conv2D)            (None, 150, 150, 32)      4640      \n",
      "_________________________________________________________________\n",
      "max_pooling2d_1 (MaxPooling2 (None, 75, 75, 32)        0         \n",
      "_________________________________________________________________\n",
      "conv2d_2 (Conv2D)            (None, 75, 75, 64)        18496     \n",
      "_________________________________________________________________\n",
      "max_pooling2d_2 (MaxPooling2 (None, 37, 37, 64)        0         \n",
      "_________________________________________________________________\n",
      "dropout (Dropout)            (None, 37, 37, 64)        0         \n",
      "_________________________________________________________________\n",
      "flatten (Flatten)            (None, 87616)             0         \n",
      "_________________________________________________________________\n",
      "dense (Dense)                (None, 128)               11214976  \n",
      "_________________________________________________________________\n",
      "dense_1 (Dense)              (None, 5)                 645       \n",
      "=================================================================\n",
      "Total params: 11,239,205\n",
      "Trainable params: 11,239,205\n",
      "Non-trainable params: 0\n",
      "_________________________________________________________________\n"
     ]
    }
   ],
   "source": [
    "model.summary()"
   ]
  },
  {
   "cell_type": "code",
   "execution_count": 7,
   "id": "e644b68b",
   "metadata": {},
   "outputs": [
    {
     "name": "stdout",
     "output_type": "stream",
     "text": [
      "WARNING:tensorflow:From <ipython-input-7-96c04e12c498>:1: Model.fit_generator (from tensorflow.python.keras.engine.training) is deprecated and will be removed in a future version.\n",
      "Instructions for updating:\n",
      "Please use Model.fit, which supports generators.\n",
      "Epoch 1/15\n",
      "180/179 [==============================] - 586s 3s/step - loss: 1.6098 - accuracy: 0.3105\n",
      "Epoch 2/15\n",
      "180/179 [==============================] - 608s 3s/step - loss: 1.3967 - accuracy: 0.4132\n",
      "Epoch 3/15\n",
      "180/179 [==============================] - 614s 3s/step - loss: 1.2128 - accuracy: 0.5091\n",
      "Epoch 4/15\n",
      "180/179 [==============================] - 610s 3s/step - loss: 0.9625 - accuracy: 0.6264\n",
      "Epoch 5/15\n",
      "180/179 [==============================] - 598s 3s/step - loss: 0.6669 - accuracy: 0.7512\n",
      "Epoch 6/15\n",
      "180/179 [==============================] - 597s 3s/step - loss: 0.4260 - accuracy: 0.8456\n",
      "Epoch 7/15\n",
      "180/179 [==============================] - 583s 3s/step - loss: 0.2590 - accuracy: 0.9145\n",
      "Epoch 8/15\n",
      "180/179 [==============================] - 577s 3s/step - loss: 0.1632 - accuracy: 0.9455\n",
      "Epoch 9/15\n",
      "180/179 [==============================] - 601s 3s/step - loss: 0.1228 - accuracy: 0.9607\n",
      "Epoch 10/15\n",
      "180/179 [==============================] - 399s 2s/step - loss: 0.0978 - accuracy: 0.9701\n",
      "Epoch 11/15\n",
      "180/179 [==============================] - 443s 2s/step - loss: 0.0860 - accuracy: 0.9724\n",
      "Epoch 12/15\n",
      "180/179 [==============================] - 581s 3s/step - loss: 0.0637 - accuracy: 0.9816\n",
      "Epoch 13/15\n",
      "180/179 [==============================] - 596s 3s/step - loss: 0.0603 - accuracy: 0.9810\n",
      "Epoch 14/15\n",
      "180/179 [==============================] - 604s 3s/step - loss: 0.0635 - accuracy: 0.9815\n",
      "Epoch 15/15\n",
      "180/179 [==============================] - 602s 3s/step - loss: 0.0579 - accuracy: 0.9827\n"
     ]
    },
    {
     "data": {
      "text/plain": [
       "<tensorflow.python.keras.callbacks.History at 0x2875d96a9a0>"
      ]
     },
     "execution_count": 7,
     "metadata": {},
     "output_type": "execute_result"
    }
   ],
   "source": [
    "model.fit_generator(train_generator, epochs = 15, steps_per_epoch = 11499 / 64)"
   ]
  },
  {
   "cell_type": "code",
   "execution_count": 11,
   "id": "dc5489cd",
   "metadata": {},
   "outputs": [],
   "source": [
    "model.save('D:/Recycling_Keras/model/model_ver14_large_dropdown.h5')"
   ]
  }
 ],
 "metadata": {
  "kernelspec": {
   "display_name": "Python 3",
   "language": "python",
   "name": "python3"
  },
  "language_info": {
   "codemirror_mode": {
    "name": "ipython",
    "version": 3
   },
   "file_extension": ".py",
   "mimetype": "text/x-python",
   "name": "python",
   "nbconvert_exporter": "python",
   "pygments_lexer": "ipython3",
   "version": "3.8.8"
  }
 },
 "nbformat": 4,
 "nbformat_minor": 5
}
