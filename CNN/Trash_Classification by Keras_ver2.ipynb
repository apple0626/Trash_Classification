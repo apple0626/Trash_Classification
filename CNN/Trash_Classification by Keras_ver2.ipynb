{
 "cells": [
  {
   "cell_type": "code",
   "execution_count": 1,
   "id": "544af5cc",
   "metadata": {},
   "outputs": [],
   "source": [
    "import matplotlib.pyplot as plt\n",
    "import numpy as np\n",
    "import os\n",
    "import PIL\n",
    "import tensorflow as tf\n",
    "\n",
    "from tensorflow import keras\n",
    "from tensorflow.keras import layers\n",
    "from tensorflow.keras.models import Sequential\n",
    "from tensorflow.keras.losses import sparse_categorical_crossentropy\n",
    "from tensorflow.keras.preprocessing.image import ImageDataGenerator"
   ]
  },
  {
   "cell_type": "code",
   "execution_count": 2,
   "id": "a7abc939",
   "metadata": {},
   "outputs": [],
   "source": [
    "data = 'dataset/big/'"
   ]
  },
  {
   "cell_type": "code",
   "execution_count": 3,
   "id": "97b2de00",
   "metadata": {},
   "outputs": [
    {
     "name": "stdout",
     "output_type": "stream",
     "text": [
      "Found 16816 images belonging to 5 classes.\n"
     ]
    }
   ],
   "source": [
    "train_generator = ImageDataGenerator(rescale = 1./255)\n",
    "train_generator = train_generator.flow_from_directory(data,\n",
    "                                                     target_size=(300, 300),\n",
    "                                                     batch_size=64,\n",
    "                                                     class_mode='sparse')\n",
    "\n",
    "labels = train_generator.class_indices"
   ]
  },
  {
   "cell_type": "code",
   "execution_count": 4,
   "id": "98077561",
   "metadata": {},
   "outputs": [],
   "source": [
    "num_classes = 5\n",
    "\n",
    "model = Sequential([\n",
    "  layers.Conv2D(16, 3, padding='same', activation='relu', input_shape = (300, 300, 3)),\n",
    "  layers.MaxPooling2D(),\n",
    "  layers.Conv2D(32, 3, padding='same', activation='relu'),\n",
    "  layers.MaxPooling2D(),\n",
    "  layers.Conv2D(64, 3, padding='same', activation='relu'),\n",
    "  layers.MaxPooling2D(),\n",
    "  layers.Flatten(),\n",
    "  layers.Dense(128, activation='relu'),\n",
    "  layers.Dense(num_classes)\n",
    "])"
   ]
  },
  {
   "cell_type": "code",
   "execution_count": 5,
   "id": "44375b02",
   "metadata": {},
   "outputs": [],
   "source": [
    "model.compile(optimizer='adam',\n",
    "              loss=tf.keras.losses.SparseCategoricalCrossentropy(from_logits=True),\n",
    "              metrics=['accuracy'])"
   ]
  },
  {
   "cell_type": "code",
   "execution_count": 6,
   "id": "0eab3fc5",
   "metadata": {},
   "outputs": [
    {
     "name": "stdout",
     "output_type": "stream",
     "text": [
      "Model: \"sequential\"\n",
      "_________________________________________________________________\n",
      "Layer (type)                 Output Shape              Param #   \n",
      "=================================================================\n",
      "conv2d (Conv2D)              (None, 300, 300, 16)      448       \n",
      "_________________________________________________________________\n",
      "max_pooling2d (MaxPooling2D) (None, 150, 150, 16)      0         \n",
      "_________________________________________________________________\n",
      "conv2d_1 (Conv2D)            (None, 150, 150, 32)      4640      \n",
      "_________________________________________________________________\n",
      "max_pooling2d_1 (MaxPooling2 (None, 75, 75, 32)        0         \n",
      "_________________________________________________________________\n",
      "conv2d_2 (Conv2D)            (None, 75, 75, 64)        18496     \n",
      "_________________________________________________________________\n",
      "max_pooling2d_2 (MaxPooling2 (None, 37, 37, 64)        0         \n",
      "_________________________________________________________________\n",
      "flatten (Flatten)            (None, 87616)             0         \n",
      "_________________________________________________________________\n",
      "dense (Dense)                (None, 128)               11214976  \n",
      "_________________________________________________________________\n",
      "dense_1 (Dense)              (None, 5)                 645       \n",
      "=================================================================\n",
      "Total params: 11,239,205\n",
      "Trainable params: 11,239,205\n",
      "Non-trainable params: 0\n",
      "_________________________________________________________________\n"
     ]
    }
   ],
   "source": [
    "model.summary()"
   ]
  },
  {
   "cell_type": "code",
   "execution_count": null,
   "id": "85aae87b",
   "metadata": {},
   "outputs": [
    {
     "name": "stdout",
     "output_type": "stream",
     "text": [
      "WARNING:tensorflow:From <ipython-input-7-24da7a99917b>:1: Model.fit_generator (from tensorflow.python.keras.engine.training) is deprecated and will be removed in a future version.\n",
      "Instructions for updating:\n",
      "Please use Model.fit, which supports generators.\n",
      "Epoch 1/10\n",
      "263/262 [==============================] - 339s 1s/step - loss: 1.5384 - accuracy: 0.4228\n",
      "Epoch 2/10\n",
      "263/262 [==============================] - 339s 1s/step - loss: 1.2588 - accuracy: 0.4927\n",
      "Epoch 3/10\n",
      "263/262 [==============================] - 784s 3s/step - loss: 1.0954 - accuracy: 0.5636\n",
      "Epoch 4/10\n",
      "263/262 [==============================] - 862s 3s/step - loss: 0.8750 - accuracy: 0.6568\n",
      "Epoch 5/10\n",
      "263/262 [==============================] - 856s 3s/step - loss: 0.6409 - accuracy: 0.7562\n",
      "Epoch 6/10\n",
      "263/262 [==============================] - 864s 3s/step - loss: 0.4256 - accuracy: 0.8449\n",
      "Epoch 7/10\n",
      "263/262 [==============================] - 855s 3s/step - loss: 0.2719 - accuracy: 0.9024\n",
      "Epoch 8/10\n",
      "263/262 [==============================] - 853s 3s/step - loss: 0.2021 - accuracy: 0.9327\n",
      "Epoch 9/10\n",
      "263/262 [==============================] - 850s 3s/step - loss: 0.1400 - accuracy: 0.9552\n",
      "Epoch 10/10\n",
      " 89/262 [=========>....................] - ETA: 9:21 - loss: 0.0980 - accuracy: 0.9724"
     ]
    }
   ],
   "source": [
    "history = model.fit_generator(train_generator, epochs = 10, steps_per_epoch = 16816 / 64)"
   ]
  },
  {
   "cell_type": "code",
   "execution_count": null,
   "id": "4cab036a",
   "metadata": {},
   "outputs": [],
   "source": [
    "model.save('D:/Recycling_Keras/model/model_ver9.h5')"
   ]
  }
 ],
 "metadata": {
  "kernelspec": {
   "display_name": "Python 3",
   "language": "python",
   "name": "python3"
  },
  "language_info": {
   "codemirror_mode": {
    "name": "ipython",
    "version": 3
   },
   "file_extension": ".py",
   "mimetype": "text/x-python",
   "name": "python",
   "nbconvert_exporter": "python",
   "pygments_lexer": "ipython3",
   "version": "3.8.8"
  }
 },
 "nbformat": 4,
 "nbformat_minor": 5
}
