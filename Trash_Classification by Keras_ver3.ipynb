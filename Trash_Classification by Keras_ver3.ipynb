{
 "cells": [
  {
   "cell_type": "code",
   "execution_count": 1,
   "id": "ee9ad4b9",
   "metadata": {},
   "outputs": [],
   "source": [
    "import matplotlib.pyplot as plt\n",
    "import numpy as np\n",
    "import os\n",
    "import PIL\n",
    "import tensorflow as tf\n",
    "\n",
    "from tensorflow import keras\n",
    "from tensorflow.keras import layers\n",
    "from tensorflow.keras.models import Sequential\n",
    "from tensorflow.keras.losses import sparse_categorical_crossentropy\n",
    "from tensorflow.keras.preprocessing.image import ImageDataGenerator"
   ]
  },
  {
   "cell_type": "code",
   "execution_count": 2,
   "id": "685ed3e0",
   "metadata": {},
   "outputs": [],
   "source": [
    "train = 'dataset/split_big/train/'\n",
    "val = 'dataset/split_big/val/'\n",
    "test = 'dataset/test_big/test/'"
   ]
  },
  {
   "cell_type": "code",
   "execution_count": 3,
   "id": "b2ee9c9f",
   "metadata": {},
   "outputs": [
    {
     "name": "stdout",
     "output_type": "stream",
     "text": [
      "Found 13451 images belonging to 5 classes.\n"
     ]
    }
   ],
   "source": [
    "train_generator = ImageDataGenerator(rescale = 1./255)\n",
    "train_generator = train_generator.flow_from_directory(train,\n",
    "                                                     target_size=(300, 300),\n",
    "                                                     batch_size=64,\n",
    "                                                     class_mode='sparse')\n",
    "\n",
    "labels = train_generator.class_indices"
   ]
  },
  {
   "cell_type": "code",
   "execution_count": 4,
   "id": "d8f463df",
   "metadata": {},
   "outputs": [
    {
     "name": "stdout",
     "output_type": "stream",
     "text": [
      "Found 1679 images belonging to 5 classes.\n"
     ]
    }
   ],
   "source": [
    "val_generator = ImageDataGenerator(rescale = 1./255)\n",
    "val_generator = val_generator.flow_from_directory(val,\n",
    "                                                     target_size=(300, 300),\n",
    "                                                     batch_size=64,\n",
    "                                                     class_mode='sparse')\n",
    "\n",
    "labels = val_generator.class_indices"
   ]
  },
  {
   "cell_type": "code",
   "execution_count": 5,
   "id": "e746bf80",
   "metadata": {},
   "outputs": [],
   "source": [
    "num_classes = 5\n",
    "\n",
    "model = Sequential([\n",
    "  layers.Conv2D(16, 3, padding='same', activation='relu', input_shape = (300, 300, 3)),\n",
    "  layers.MaxPooling2D(),\n",
    "  layers.Conv2D(32, 3, padding='same', activation='relu'),\n",
    "  layers.MaxPooling2D(),\n",
    "  layers.Conv2D(64, 3, padding='same', activation='relu'),\n",
    "  layers.MaxPooling2D(),\n",
    "  layers.Flatten(),\n",
    "  layers.Dense(128, activation='relu'),\n",
    "  layers.Dense(num_classes)\n",
    "])"
   ]
  },
  {
   "cell_type": "code",
   "execution_count": 6,
   "id": "98eb0304",
   "metadata": {},
   "outputs": [],
   "source": [
    "model.compile(optimizer='adam',\n",
    "              loss=tf.keras.losses.SparseCategoricalCrossentropy(from_logits=True),\n",
    "              metrics=['accuracy'])"
   ]
  },
  {
   "cell_type": "code",
   "execution_count": 7,
   "id": "cc95dca4",
   "metadata": {},
   "outputs": [
    {
     "name": "stdout",
     "output_type": "stream",
     "text": [
      "Model: \"sequential\"\n",
      "_________________________________________________________________\n",
      "Layer (type)                 Output Shape              Param #   \n",
      "=================================================================\n",
      "conv2d (Conv2D)              (None, 300, 300, 16)      448       \n",
      "_________________________________________________________________\n",
      "max_pooling2d (MaxPooling2D) (None, 150, 150, 16)      0         \n",
      "_________________________________________________________________\n",
      "conv2d_1 (Conv2D)            (None, 150, 150, 32)      4640      \n",
      "_________________________________________________________________\n",
      "max_pooling2d_1 (MaxPooling2 (None, 75, 75, 32)        0         \n",
      "_________________________________________________________________\n",
      "conv2d_2 (Conv2D)            (None, 75, 75, 64)        18496     \n",
      "_________________________________________________________________\n",
      "max_pooling2d_2 (MaxPooling2 (None, 37, 37, 64)        0         \n",
      "_________________________________________________________________\n",
      "flatten (Flatten)            (None, 87616)             0         \n",
      "_________________________________________________________________\n",
      "dense (Dense)                (None, 128)               11214976  \n",
      "_________________________________________________________________\n",
      "dense_1 (Dense)              (None, 5)                 645       \n",
      "=================================================================\n",
      "Total params: 11,239,205\n",
      "Trainable params: 11,239,205\n",
      "Non-trainable params: 0\n",
      "_________________________________________________________________\n"
     ]
    }
   ],
   "source": [
    "model.summary()"
   ]
  },
  {
   "cell_type": "code",
   "execution_count": null,
   "id": "865a50c3",
   "metadata": {},
   "outputs": [
    {
     "name": "stdout",
     "output_type": "stream",
     "text": [
      "WARNING:tensorflow:From <ipython-input-8-544a371d8567>:1: Model.fit_generator (from tensorflow.python.keras.engine.training) is deprecated and will be removed in a future version.\n",
      "Instructions for updating:\n",
      "Please use Model.fit, which supports generators.\n",
      "Epoch 1/20\n",
      "211/210 [==============================] - 633s 3s/step - loss: 1.4565 - accuracy: 0.4292 - val_loss: 1.3271 - val_accuracy: 0.4735\n",
      "Epoch 2/20\n",
      "211/210 [==============================] - 726s 3s/step - loss: 1.2298 - accuracy: 0.5011 - val_loss: 1.2235 - val_accuracy: 0.5039\n",
      "Epoch 3/20\n",
      "211/210 [==============================] - 707s 3s/step - loss: 1.0347 - accuracy: 0.5856 - val_loss: 1.1972 - val_accuracy: 0.5342\n",
      "Epoch 4/20\n",
      "211/210 [==============================] - 716s 3s/step - loss: 0.7639 - accuracy: 0.7063 - val_loss: 1.3244 - val_accuracy: 0.5247\n",
      "Epoch 5/20\n",
      "211/210 [==============================] - 718s 3s/step - loss: 0.4786 - accuracy: 0.8197 - val_loss: 1.6821 - val_accuracy: 0.5325\n",
      "Epoch 6/20\n",
      "211/210 [==============================] - 721s 3s/step - loss: 0.2699 - accuracy: 0.9068 - val_loss: 2.2163 - val_accuracy: 0.5420\n",
      "Epoch 7/20\n",
      "211/210 [==============================] - 715s 3s/step - loss: 0.1700 - accuracy: 0.9425 - val_loss: 2.3797 - val_accuracy: 0.5271\n",
      "Epoch 8/20\n",
      "211/210 [==============================] - 713s 3s/step - loss: 0.1113 - accuracy: 0.9629 - val_loss: 3.0443 - val_accuracy: 0.5384\n",
      "Epoch 9/20\n",
      "189/210 [=========================>....] - ETA: 1:08 - loss: 0.0808 - accuracy: 0.9750"
     ]
    }
   ],
   "source": [
    "model.fit_generator(train_generator, epochs = 20, steps_per_epoch = 13451 / 64, validation_data=val_generator, validation_steps=1679 /64)"
   ]
  },
  {
   "cell_type": "code",
   "execution_count": null,
   "id": "28d89aec",
   "metadata": {},
   "outputs": [],
   "source": [
    "model.save('D:/Recycling_Keras/model/model_ver10_epochs_20.h5')"
   ]
  }
 ],
 "metadata": {
  "kernelspec": {
   "display_name": "Python 3",
   "language": "python",
   "name": "python3"
  },
  "language_info": {
   "codemirror_mode": {
    "name": "ipython",
    "version": 3
   },
   "file_extension": ".py",
   "mimetype": "text/x-python",
   "name": "python",
   "nbconvert_exporter": "python",
   "pygments_lexer": "ipython3",
   "version": "3.8.8"
  }
 },
 "nbformat": 4,
 "nbformat_minor": 5
}
