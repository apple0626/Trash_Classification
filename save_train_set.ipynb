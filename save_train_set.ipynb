{
 "cells": [
  {
   "cell_type": "code",
   "execution_count": 1,
   "id": "1db2d6d1",
   "metadata": {},
   "outputs": [],
   "source": [
    "import os, shutil\n",
    "\n",
    "original_dir = 'D:/Recycling_Keras/dataset/big/'\n",
    "base_dir = 'D:/Recycling_Keras/dataset/random/'\n",
    "os.makedirs(base_dir, exist_ok = True)"
   ]
  },
  {
   "cell_type": "code",
   "execution_count": 2,
   "id": "a5ae4fa5",
   "metadata": {},
   "outputs": [],
   "source": [
    "waste_types = ['glass','metal','paper','plastic','trash']"
   ]
  },
  {
   "cell_type": "code",
   "execution_count": 3,
   "id": "4dd1fd47",
   "metadata": {},
   "outputs": [],
   "source": [
    "os.chdir(base_dir)"
   ]
  },
  {
   "cell_type": "code",
   "execution_count": 4,
   "id": "34ca657c",
   "metadata": {},
   "outputs": [
    {
     "name": "stdout",
     "output_type": "stream",
     "text": [
      "saved in glass dir. The size is 1500.\n",
      "saved in metal dir. The size is 1500.\n",
      "saved in paper dir. The size is 1500.\n",
      "saved in plastic dir. The size is 1500.\n",
      "saved in trash dir. The size is 3000.\n"
     ]
    }
   ],
   "source": [
    "import random\n",
    "for w in waste_types:\n",
    "    current_dir = original_dir + w\n",
    "    os.chdir(current_dir)\n",
    "    \n",
    "    fnames = []\n",
    "    if w == 'trash':\n",
    "        fnames = (random.sample(os.listdir(), 3000))\n",
    "    else :\n",
    "        fnames = (random.sample(os.listdir(), 1500))\n",
    "    print('saved in {} dir. The size is {}.'.format(w, len(fnames)))\n",
    "    \n",
    "    for fname in fnames:\n",
    "        src = os.path.join(current_dir + '/', fname)\n",
    "        os.makedirs(base_dir + '{}/'.format(w), exist_ok = True)\n",
    "        dst = os.path.join(base_dir + '{}/'.format(w), fname)\n",
    "        shutil.copyfile(src, dst)"
   ]
  }
 ],
 "metadata": {
  "kernelspec": {
   "display_name": "Python 3",
   "language": "python",
   "name": "python3"
  },
  "language_info": {
   "codemirror_mode": {
    "name": "ipython",
    "version": 3
   },
   "file_extension": ".py",
   "mimetype": "text/x-python",
   "name": "python",
   "nbconvert_exporter": "python",
   "pygments_lexer": "ipython3",
   "version": "3.8.5"
  }
 },
 "nbformat": 4,
 "nbformat_minor": 5
}
