{
 "cells": [
  {
   "cell_type": "code",
   "execution_count": 1,
   "id": "7dec5f72",
   "metadata": {},
   "outputs": [],
   "source": [
    "import os, shutil\n",
    "\n",
    "original_dir = 'D:/Recycling_Keras/dataset/big/'\n",
    "base_dir = 'D:/Recycling_Keras/dataset/base/'\n",
    "os.makedirs(base_dir, exist_ok = True)"
   ]
  },
  {
   "cell_type": "code",
   "execution_count": 2,
   "id": "c72f62be",
   "metadata": {},
   "outputs": [],
   "source": [
    "subsets = ['train','valid', 'test']\n",
    "waste_types = ['glass','metal','paper','plastic','trash']"
   ]
  },
  {
   "cell_type": "code",
   "execution_count": 3,
   "id": "d3718e5d",
   "metadata": {},
   "outputs": [],
   "source": [
    "for d in subsets:\n",
    "    os.chdir(base_dir)\n",
    "    os.mkdir(d + '/')\n",
    "    os.chdir(d)\n",
    "    for c in waste_types:\n",
    "        os.mkdir(c + '/')"
   ]
  },
  {
   "cell_type": "code",
   "execution_count": 4,
   "id": "291406f1",
   "metadata": {},
   "outputs": [],
   "source": [
    "for c in waste_types:\n",
    "    fnames = ['{}{}.jpg'.format(c, i) for i in range(1, 1001)]\n",
    "    for fname in fnames:\n",
    "        src = os.path.join(original_dir + c, fname)\n",
    "        dst = os.path.join(base_dir + '{}/{}/'.format(subsets[0], c), fname)\n",
    "        shutil.copyfile(src, dst)\n",
    "        \n",
    "    fnames = ['{}{}.jpg'.format(c, i) for i in range(1001, 1201)]\n",
    "    for fname in fnames:\n",
    "        src = os.path.join(original_dir + c, fname)\n",
    "        dst = os.path.join(base_dir + '{}/{}/'.format(subsets[1], c), fname)\n",
    "        shutil.copyfile(src, dst)\n",
    "        \n",
    "    fnames = ['{}{}.jpg'.format(c, i) for i in range(1201, 1401)]\n",
    "    for fname in fnames:\n",
    "        src = os.path.join(original_dir + c, fname)\n",
    "        dst = os.path.join(base_dir + '{}/{}/'.format(subsets[2], c), fname)\n",
    "        shutil.copyfile(src, dst)"
   ]
  },
  {
   "cell_type": "code",
   "execution_count": 5,
   "id": "1066f3e1",
   "metadata": {},
   "outputs": [
    {
     "name": "stdout",
     "output_type": "stream",
     "text": [
      "train :  1000\n",
      "valid :  200\n",
      "test :  200\n"
     ]
    }
   ],
   "source": [
    "print('train : ', len(os.listdir(os.path.join(base_dir, 'train/paper'))))\n",
    "print('valid : ', len(os.listdir(os.path.join(base_dir, 'valid/paper'))))\n",
    "print('test : ', len(os.listdir(os.path.join(base_dir, 'test/paper'))))"
   ]
  }
 ],
 "metadata": {
  "kernelspec": {
   "display_name": "Python 3",
   "language": "python",
   "name": "python3"
  },
  "language_info": {
   "codemirror_mode": {
    "name": "ipython",
    "version": 3
   },
   "file_extension": ".py",
   "mimetype": "text/x-python",
   "name": "python",
   "nbconvert_exporter": "python",
   "pygments_lexer": "ipython3",
   "version": "3.8.8"
  }
 },
 "nbformat": 4,
 "nbformat_minor": 5
}
